{
 "cells": [
  {
   "cell_type": "code",
   "execution_count": null,
   "metadata": {},
   "outputs": [],
   "source": []
  },
  {
   "cell_type": "code",
   "execution_count": null,
   "metadata": {},
   "outputs": [],
   "source": [
    "import torch.utils.data as Data\n",
    "class MyDataSet(Data.Dataset):\n",
    "\n",
    "    def __init__(self, data):\n",
    "        self.x = data['word_list'].values\n",
    "        self.y = data['labels'].values\n",
    "\n",
    "    def __getitem__(self, index):\n",
    "        return np.array(sentence_to_vector(self.x[index]),dtype=np.float32),self.y[index]\n",
    "\n",
    "    def __len__(self):\n",
    "        return len(self.x)\n",
    "dataset = MyDataSet(data)\n",
    "# 首先产生数据索引的乱序排列\n",
    "\n",
    "batch_size=100\n",
    "train_iter = Data.DataLoader(dataset, batch_size=batch_size,shuffle=False, drop_last=False, sampler=train_label_index)\n",
    "dev_iter = Data.DataLoader(dataset, batch_size=1000, shuffle=False,drop_last=False, sampler=val_label_index)\n",
    "test_iter = Data.DataLoader(dataset, batch_size=1000, shuffle=False,drop_last=False, sampler=test_label_index)"
   ]
  },
  {
   "cell_type": "code",
   "execution_count": null,
   "metadata": {},
   "outputs": [],
   "source": [
    "# coding: UTF-8\n",
    "import time\n",
    "import torch\n",
    "import numpy as np\n",
    "from importlib import import_module\n",
    "import argparse\n",
    "import pandas as pd\n",
    "from sklearn.model_selection import train_test_split\n",
    "\n",
    "\n",
    "import torch.nn as nn\n",
    "import torch.nn.functional as F\n",
    "from sklearn import metrics\n",
    "import time\n",
    "\n",
    "model_name ='TextRNN_Att'  # 'TextRCNN'  # TextCNN, TextRNN, FastText, TextRCNN, TextRNN_Att, DPCNN, Transformer # Attention 注意力机制 RNN模型\n",
    "\n",
    "x = import_module(f'models.{model_name}')\n",
    "config = x.Config()\n",
    "model = x.Model(config).to(config.device)\n",
    "print(model.parameters)"
   ]
  }
 ],
 "metadata": {
  "language_info": {
   "name": "python"
  }
 },
 "nbformat": 4,
 "nbformat_minor": 2
}
