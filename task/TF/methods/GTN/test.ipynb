{
 "cells": [
  {
   "cell_type": "code",
   "execution_count": 3,
   "metadata": {},
   "outputs": [],
   "source": [
    "import torch\n",
    "from graph_transformer_pytorch import GraphTransformer\n",
    "\n",
    "model = GraphTransformer(\n",
    "    dim = 256,\n",
    "    depth = 6,\n",
    "    edge_dim = 512,\n",
    "    with_feedforwards = True,\n",
    "    gated_residual = True,\n",
    "    rel_pos_emb = True,\n",
    "    accept_adjacency_matrix = True  # set this to True\n",
    ")\n",
    "\n",
    "nodes = torch.randn(2, 128, 256)\n",
    "adj_mat = torch.randint(0, 2, (2, 128, 128))\n",
    "mask = torch.ones(2, 128).bool()\n",
    "\n",
    "nodes, edges = model(nodes, adj_mat = adj_mat)\n"
   ]
  },
  {
   "cell_type": "code",
   "execution_count": 1,
   "metadata": {},
   "outputs": [
    {
     "data": {
      "text/plain": [
       "0.05"
      ]
     },
     "execution_count": 1,
     "metadata": {},
     "output_type": "execute_result"
    }
   ],
   "source": [
    "5e-2"
   ]
  },
  {
   "cell_type": "code",
   "execution_count": null,
   "metadata": {},
   "outputs": [],
   "source": []
  },
  {
   "cell_type": "code",
   "execution_count": null,
   "metadata": {},
   "outputs": [],
   "source": []
  },
  {
   "cell_type": "code",
   "execution_count": null,
   "metadata": {},
   "outputs": [],
   "source": [
    "loss = nn.CrossEntropyLoss()"
   ]
  },
  {
   "cell_type": "code",
   "execution_count": null,
   "metadata": {},
   "outputs": [],
   "source": [
    "self.loss(y, target)"
   ]
  }
 ],
 "metadata": {
  "kernelspec": {
   "display_name": "biobase",
   "language": "python",
   "name": "python3"
  },
  "language_info": {
   "codemirror_mode": {
    "name": "ipython",
    "version": 3
   },
   "file_extension": ".py",
   "mimetype": "text/x-python",
   "name": "python",
   "nbconvert_exporter": "python",
   "pygments_lexer": "ipython3",
   "version": "3.10.13"
  }
 },
 "nbformat": 4,
 "nbformat_minor": 2
}
