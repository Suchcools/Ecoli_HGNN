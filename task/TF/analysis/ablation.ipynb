{
 "cells": [
  {
   "cell_type": "markdown",
   "metadata": {},
   "source": [
    "### ROC"
   ]
  },
  {
   "cell_type": "code",
   "execution_count": 1,
   "metadata": {},
   "outputs": [],
   "source": [
    "import pandas as pd\n",
    "import numpy as np\n",
    "import os\n",
    "from sklearn.metrics import precision_score, recall_score, f1_score\n",
    "from sklearn.metrics import roc_curve, auc\n",
    "import matplotlib.pyplot as plt\n",
    "\n",
    "root_path = \"../output/ablation\"\n",
    "class_label_to_calculate = 1\n",
    "metric_list = os.listdir(root_path)\n",
    "metric_list = ['no edge.npz', 'no resval.npz', 'no l2.npz','no fm.npz','total.npz']\n",
    "def calculate_metrics(file_path, class_label=1):\n",
    "    # Load the saved data\n",
    "    loaded_data = np.load(file_path)\n",
    "\n",
    "    # Access the saved arrays using the corresponding keys\n",
    "    if 'label' in list(loaded_data.keys()):\n",
    "        labels = loaded_data['label']\n",
    "        probabilities = loaded_data['prob']\n",
    "    elif 'labels' in list(loaded_data.keys()):\n",
    "        labels = loaded_data['labels']\n",
    "        probabilities = loaded_data['predictions']    \n",
    "    elif 'groundtruth' in list(loaded_data.keys()):\n",
    "        labels = loaded_data['groundtruth']\n",
    "        probabilities = loaded_data['predict']\n",
    "    # Calculate predicted labels\n",
    "    if len(probabilities.shape) >= 2:\n",
    "        predicted_labels = np.argmax(probabilities, axis=1)\n",
    "    else:\n",
    "        predicted_labels = probabilities\n",
    "\n",
    "    if len(labels.shape) >= 2:\n",
    "        labels = np.argmax(labels, axis=1)\n",
    "    else:\n",
    "        labels = labels\n",
    "\n",
    "    # Calculate precision, recall, and F1-score for the specified class\n",
    "    precision = precision_score(labels, predicted_labels, pos_label=class_label)\n",
    "    recall = recall_score(labels, predicted_labels, pos_label=class_label)\n",
    "    f1 = f1_score(labels, predicted_labels, pos_label=class_label)\n",
    "\n",
    "\n",
    "    return precision, recall, f1"
   ]
  },
  {
   "cell_type": "code",
   "execution_count": 2,
   "metadata": {},
   "outputs": [
    {
     "data": {
      "text/html": [
       "<div>\n",
       "<style scoped>\n",
       "    .dataframe tbody tr th:only-of-type {\n",
       "        vertical-align: middle;\n",
       "    }\n",
       "\n",
       "    .dataframe tbody tr th {\n",
       "        vertical-align: top;\n",
       "    }\n",
       "\n",
       "    .dataframe thead th {\n",
       "        text-align: right;\n",
       "    }\n",
       "</style>\n",
       "<table border=\"1\" class=\"dataframe\">\n",
       "  <thead>\n",
       "    <tr style=\"text-align: right;\">\n",
       "      <th></th>\n",
       "      <th>Precision</th>\n",
       "      <th>Recall</th>\n",
       "      <th>F1-Score</th>\n",
       "    </tr>\n",
       "  </thead>\n",
       "  <tbody>\n",
       "    <tr>\n",
       "      <th>no edge</th>\n",
       "      <td>0.820896</td>\n",
       "      <td>0.833333</td>\n",
       "      <td>0.827068</td>\n",
       "    </tr>\n",
       "    <tr>\n",
       "      <th>no resval</th>\n",
       "      <td>0.808219</td>\n",
       "      <td>0.893939</td>\n",
       "      <td>0.848921</td>\n",
       "    </tr>\n",
       "    <tr>\n",
       "      <th>no l2</th>\n",
       "      <td>0.951613</td>\n",
       "      <td>0.893939</td>\n",
       "      <td>0.921875</td>\n",
       "    </tr>\n",
       "    <tr>\n",
       "      <th>no fm</th>\n",
       "      <td>0.950820</td>\n",
       "      <td>0.878788</td>\n",
       "      <td>0.913386</td>\n",
       "    </tr>\n",
       "    <tr>\n",
       "      <th>total</th>\n",
       "      <td>0.983607</td>\n",
       "      <td>0.909091</td>\n",
       "      <td>0.944882</td>\n",
       "    </tr>\n",
       "  </tbody>\n",
       "</table>\n",
       "</div>"
      ],
      "text/plain": [
       "           Precision    Recall  F1-Score\n",
       "no edge     0.820896  0.833333  0.827068\n",
       "no resval   0.808219  0.893939  0.848921\n",
       "no l2       0.951613  0.893939  0.921875\n",
       "no fm       0.950820  0.878788  0.913386\n",
       "total       0.983607  0.909091  0.944882"
      ]
     },
     "execution_count": 2,
     "metadata": {},
     "output_type": "execute_result"
    }
   ],
   "source": [
    "# Initialize an empty DataFrame to store the results\n",
    "result_df = pd.DataFrame(columns=['Precision', 'Recall', 'F1-Score'])\n",
    "\n",
    "# Function to calculate metrics and update the DataFrame\n",
    "def update_result_df(file_path, class_label=1):\n",
    "    precision, recall, f1 = calculate_metrics(file_path, class_label)\n",
    "    return pd.Series({'Precision': precision, 'Recall': recall, 'F1-Score': f1})\n",
    "\n",
    "# Iterate through each file in metric_list\n",
    "for metric_file in metric_list:\n",
    "    file_path = os.path.join(root_path, metric_file)\n",
    "\n",
    "    # Skip non-npz files\n",
    "    if not metric_file.endswith('.npz'):\n",
    "        continue\n",
    "\n",
    "    # Calculate metrics and append the results to the DataFrame\n",
    "    result_df.loc[metric_file.replace(\".npz\", \"\")] = update_result_df(file_path, class_label_to_calculate)\n",
    "result_df.to_csv(\"result/ablation.csv\")\n",
    "result_df"
   ]
  },
  {
   "cell_type": "code",
   "execution_count": 3,
   "metadata": {},
   "outputs": [
    {
     "data": {
      "text/plain": [
       "['no edge.npz', 'no resval.npz', 'no l2.npz', 'no fm.npz', 'total.npz']"
      ]
     },
     "execution_count": 3,
     "metadata": {},
     "output_type": "execute_result"
    }
   ],
   "source": [
    "metric_list"
   ]
  },
  {
   "cell_type": "code",
   "execution_count": null,
   "metadata": {},
   "outputs": [],
   "source": []
  },
  {
   "cell_type": "code",
   "execution_count": 4,
   "metadata": {},
   "outputs": [
    {
     "data": {
      "image/png": "[encoded data removed]",
      "text/plain": [
       "<Figure size 1000x500 with 1 Axes>"
      ]
     },
     "metadata": {},
     "output_type": "display_data"
    }
   ],
   "source": [
    "import matplotlib.pyplot as plt\n",
    "\n",
    "# Index representing the models\n",
    "models = [x.replace(\".npz\",\"\") for x in metric_list]\n",
    "\n",
    "# Plotting\n",
    "fig, ax = plt.subplots(figsize=(10, 5))\n",
    "\n",
    "bar_width = 0.25\n",
    "bar_positions = [i for i in range(len(models))]\n",
    "colors = ['#4A7BB7', '#FED081', '#F7834D']\n",
    "for i, metric in enumerate(['Precision', 'Recall', 'F1-Score']):\n",
    "    bars = ax.bar([pos + i * bar_width for pos in bar_positions], result_df[metric], width=bar_width, label=metric, color=colors[i])\n",
    "    for bar in bars:\n",
    "        yval = bar.get_height()\n",
    "        ax.text(bar.get_x() + bar.get_width()/2, yval, round(yval, 2), ha='center', va='bottom', color='black', fontsize=8)\n",
    "        \n",
    "# Customize plot\n",
    "ax.set_xticks([pos + bar_width for pos in bar_positions])\n",
    "ax.set_xticklabels(models)\n",
    "ax.set_xlabel('Models',size=15)\n",
    "ax.set_ylabel('Metrics')\n",
    "ax.set_title('Comparison of Transcription Factor Prediction Metrics')\n",
    "ax.legend(bbox_to_anchor=(0.7, -0.15),ncol=3)\n",
    "plt.savefig(\"plot/ablation.png\", dpi=300)\n",
    "plt.show()"
   ]
  }
 ],
 "metadata": {
  "kernelspec": {
   "display_name": "biobase",
   "language": "python",
   "name": "python3"
  },
  "language_info": {
   "codemirror_mode": {
    "name": "ipython",
    "version": 3
   },
   "file_extension": ".py",
   "mimetype": "text/x-python",
   "name": "python",
   "nbconvert_exporter": "python",
   "pygments_lexer": "ipython3",
   "version": "3.10.13"
  }
 },
 "nbformat": 4,
 "nbformat_minor": 2
}
