{
 "cells": [
  {
   "cell_type": "code",
   "execution_count": 1,
   "metadata": {},
   "outputs": [
    {
     "name": "stdout",
     "output_type": "stream",
     "text": [
      "{'0': {'start': 0, 'end': 0, 'meaning': 'TFGI'}, '1': {'start': 2, 'end': 0, 'meaning': 'CPI'}, '2': {'start': 0, 'end': 1, 'meaning': 'GRI'}, '3': {'start': 2, 'end': 1, 'meaning': 'MRI'}, '4': {'start': 1, 'end': 2, 'meaning': 'RMI'}, '5': {'start': 0, 'end': 0, 'meaning': 'SFGI'}, '6': {'start': 0, 'end': 0, 'meaning': 'PPI'}, '7': {'start': 1, 'end': 3, 'meaning': 'RPI'}}\n"
     ]
    }
   ],
   "source": [
    "import os\n",
    "import numpy as np\n",
    "import torch\n",
    "import torch.nn as nn\n",
    "import dgl\n",
    "import dgl.function as fn\n",
    "import pandas as pd\n",
    "import json\n",
    "\n",
    "with open('./ERM_E/info.dat', 'r') as load_f:\n",
    "    info_dict = json.load(load_f)\n",
    "    link_info = info_dict['link.dat']['link type']\n",
    "    node_info = info_dict['node.dat']['node type']\n",
    "\n",
    "print(link_info)\n",
    "# read nodes\n",
    "nodes = pd.read_csv('./ERM_E/node.dat', sep=\"\\t\", header=None)\n",
    "edges = pd.read_csv('./ERM_E/link.dat', sep=\"\\t\", header=None)\n",
    "label_train = pd.read_csv('./ERM_E/label.dat', sep=\"\\t\", header=None)\n",
    "label_test = pd.read_csv('./ERM_E/label.dat.test', sep=\"\\t\", header=None)"
   ]
  },
  {
   "cell_type": "code",
   "execution_count": 2,
   "metadata": {},
   "outputs": [
    {
     "data": {
      "text/plain": [
       "Graph(num_nodes={'Gene': 3035, 'Metabolite': 1059, 'Pathway': 38, 'Reaction': 2373},\n",
       "      num_edges={('Gene', 'GRI', 'Reaction'): 4297, ('Gene', 'PPI', 'Gene'): 9059, ('Gene', 'SFGI', 'Gene'): 2211, ('Gene', 'TFGI', 'Gene'): 4552, ('Metabolite', 'CPI', 'Gene'): 3644, ('Metabolite', 'MRI', 'Reaction'): 2627, ('Reaction', 'RMI', 'Metabolite'): 2710, ('Reaction', 'RPI', 'Pathway'): 2375},\n",
       "      metagraph=[('Gene', 'Reaction', 'GRI'), ('Gene', 'Gene', 'PPI'), ('Gene', 'Gene', 'SFGI'), ('Gene', 'Gene', 'TFGI'), ('Reaction', 'Metabolite', 'RMI'), ('Reaction', 'Pathway', 'RPI'), ('Metabolite', 'Gene', 'CPI'), ('Metabolite', 'Reaction', 'MRI')])"
      ]
     },
     "execution_count": 2,
     "metadata": {},
     "output_type": "execute_result"
    }
   ],
   "source": [
    "# add node features\n",
    "paper_feature = []\n",
    "author_feature = []\n",
    "subject_feature = []\n",
    "\n",
    "for i in range(len(nodes)):\n",
    "    if (nodes.iloc[i, 2] == 0):\n",
    "        paper_feature.append(list(map(float, nodes.iloc[i, 3].split(','))))\n",
    "    else:\n",
    "        continue\n",
    "\n",
    "meta_graphs = {}\n",
    "for i in range(8):\n",
    "    edge = edges[edges[2] == i]\n",
    "    source_node = edge.iloc[:, 0].values - np.min(edge.iloc[:, 0].values)  # 使link.dat中的每种节点id从0开始\n",
    "    target_node = edge.iloc[:, 1].values - np.min(edge.iloc[:, 1].values)\n",
    "    meta_graphs[(node_info[str(link_info[str(i)]['start'])], link_info[str(i)]['meaning'], node_info[str(link_info[str(i)]['end'])])] = (torch.tensor(source_node), torch.tensor(target_node))\n",
    "g = dgl.heterograph(meta_graphs)\n",
    "g"
   ]
  },
  {
   "cell_type": "code",
   "execution_count": 3,
   "metadata": {},
   "outputs": [
    {
     "data": {
      "text/plain": [
       "{('Gene', 'TFGI', 'Gene'): (tensor([   0,    0,    0,  ..., 3010, 3010, 3010]),\n",
       "  tensor([   3,    4,  640,  ..., 3022, 3023, 3024])),\n",
       " ('Metabolite',\n",
       "  'CPI',\n",
       "  'Gene'): (tensor([   0,    0,    0,  ..., 1055, 1055, 1055]), tensor([  70,  153,  188,  ..., 1609, 1910, 2711])),\n",
       " ('Gene',\n",
       "  'GRI',\n",
       "  'Reaction'): (tensor([   0,    3,    3,  ..., 3026, 3026, 3029]), tensor([ 615,  399, 1964,  ...,  252,  563,  245])),\n",
       " ('Metabolite',\n",
       "  'MRI',\n",
       "  'Reaction'): (tensor([   0,    0,    1,  ..., 1056, 1056, 1057]), tensor([1311, 2262,  219,  ..., 1721, 1776, 1566])),\n",
       " ('Reaction',\n",
       "  'RMI',\n",
       "  'Metabolite'): (tensor([   0,    0,    0,  ..., 2369, 2370, 2371]), tensor([ 12,  28, 444,  ..., 876, 380, 590])),\n",
       " ('Gene', 'SFGI', 'Gene'): (tensor([   0,    0,    0,  ..., 1011, 1011, 1011]),\n",
       "  tensor([   8,   64,  131,  ..., 3008, 3009, 3010])),\n",
       " ('Gene', 'PPI', 'Gene'): (tensor([   0,    0,    0,  ..., 3029, 3029, 3029]),\n",
       "  tensor([  45,  282, 2247,  ..., 2200, 2837, 2839])),\n",
       " ('Reaction',\n",
       "  'RPI',\n",
       "  'Pathway'): (tensor([   0,    1,    2,  ..., 2370, 2371, 2372]), tensor([30, 28, 28,  ..., 13, 14, 21]))}"
      ]
     },
     "execution_count": 3,
     "metadata": {},
     "output_type": "execute_result"
    }
   ],
   "source": [
    "meta_graphs"
   ]
  },
  {
   "cell_type": "code",
   "execution_count": null,
   "metadata": {},
   "outputs": [],
   "source": []
  },
  {
   "cell_type": "code",
   "execution_count": 4,
   "metadata": {},
   "outputs": [
    {
     "ename": "NameError",
     "evalue": "name 'sad' is not defined",
     "output_type": "error",
     "traceback": [
      "\u001b[0;31m---------------------------------------------------------------------------\u001b[0m",
      "\u001b[0;31mNameError\u001b[0m                                 Traceback (most recent call last)",
      "Cell \u001b[0;32mIn[4], line 1\u001b[0m\n\u001b[0;32m----> 1\u001b[0m \u001b[43msad\u001b[49m\n",
      "\u001b[0;31mNameError\u001b[0m: name 'sad' is not defined"
     ]
    }
   ],
   "source": [
    "sad"
   ]
  },
  {
   "cell_type": "code",
   "execution_count": null,
   "metadata": {},
   "outputs": [],
   "source": [
    "# assign node featuer\n",
    "embedding_dim = 1280\n",
    "node_embedding = nn.Embedding(3, embedding_dim)\n",
    "\n",
    "\n",
    "g.nodes['Gene'].data['h'] = torch.FloatTensor(paper_feature)\n",
    "g.nodes['Metabolite'].data['h'] = node_embedding(torch.tensor([0] * g.num_nodes('Metabolite')))\n",
    "g.nodes['Pathway'].data['h'] = node_embedding(torch.tensor([1] * g.num_nodes('Pathway')))\n",
    "g.nodes['Reaction'].data['h'] = node_embedding(torch.tensor([2] * g.num_nodes('Reaction')))\n",
    "\n",
    "# get idx for train\n",
    "train_paper_id = torch.LongTensor(label_train.iloc[:, 0].values)\n",
    "# get idx for test\n",
    "test_paper_id = torch.LongTensor(label_test.iloc[:, 0].values)\n",
    "\n",
    "# get labels in graph for train and test\n",
    "train_paper_label_value = torch.FloatTensor(label_train.iloc[:, 3].values)\n",
    "test_paper_label_value = torch.FloatTensor(label_test.iloc[:, 3].values)\n",
    "\n",
    "train_paper_mask_value = torch.full((1, len(train_paper_id)), True).bool()\n",
    "test_paper_mask_value = torch.full((1, len(test_paper_id)), True).bool()\n",
    "\n",
    "train_paper_mask = torch.full((len(paper_feature), ), False).bool()\n",
    "test_paper_mask = torch.full((len(paper_feature), ), False).bool()\n",
    "\n",
    "paper_label = torch.full((len(paper_feature),), -1.)\n",
    "\n",
    "paper_label[train_paper_id] = train_paper_label_value\n",
    "paper_label[test_paper_id] = test_paper_label_value\n",
    "\n",
    "train_paper_mask[train_paper_id] = train_paper_mask_value\n",
    "test_paper_mask[test_paper_id] = test_paper_mask_value\n",
    "\n",
    "g.nodes['Gene'].data['label'] = paper_label\n",
    "g.nodes['Gene'].data['train_mask'] = train_paper_mask\n",
    "g.nodes['Gene'].data['test_mask'] = test_paper_mask\n",
    "# save graph\n",
    "dgl.save_graphs(\"./erm.bin\", g)"
   ]
  },
  {
   "cell_type": "code",
   "execution_count": null,
   "metadata": {},
   "outputs": [],
   "source": []
  },
  {
   "cell_type": "code",
   "execution_count": null,
   "metadata": {},
   "outputs": [],
   "source": []
  },
  {
   "cell_type": "code",
   "execution_count": null,
   "metadata": {},
   "outputs": [],
   "source": []
  },
  {
   "cell_type": "code",
   "execution_count": null,
   "metadata": {},
   "outputs": [
    {
     "data": {
      "text/plain": [
       "Graph(num_nodes={'Gene': 3035, 'Metabolite': 1059, 'Pathway': 38, 'Reaction': 2373},\n",
       "      num_edges={('Gene', 'GRI', 'Reaction'): 4297, ('Gene', 'PPI', 'Gene'): 9102, ('Gene', 'SFGI', 'Gene'): 2211, ('Gene', 'TFGI', 'Gene'): 4552, ('Metabolite', 'CPI', 'Gene'): 3753, ('Metabolite', 'MRI', 'Reaction'): 2943, ('Reaction', 'RMI', 'Metabolite'): 3026, ('Reaction', 'RPI', 'Pathway'): 2375},\n",
       "      metagraph=[('Gene', 'Reaction', 'GRI'), ('Gene', 'Gene', 'PPI'), ('Gene', 'Gene', 'SFGI'), ('Gene', 'Gene', 'TFGI'), ('Reaction', 'Metabolite', 'RMI'), ('Reaction', 'Pathway', 'RPI'), ('Metabolite', 'Gene', 'CPI'), ('Metabolite', 'Reaction', 'MRI')])"
      ]
     },
     "execution_count": 7,
     "metadata": {},
     "output_type": "execute_result"
    }
   ],
   "source": [
    "g"
   ]
  },
  {
   "cell_type": "markdown",
   "metadata": {},
   "source": [
    "Graph(num_nodes={'Gene': 3035, 'Metabolite': 1059, 'Pathway': 38, 'Reaction': 2373},\n",
    "      num_edges={('Gene', 'GRI', 'Reaction'): 4297, ('Gene', 'PPI', 'Gene'): 9102, ('Gene', 'SFGI', 'Gene'): 2211, ('Gene', 'TFGI', 'Gene'): 4552, ('Metabolite', 'CPI', 'Gene'): 3753, ('Metabolite', 'MRI', 'Reaction'): 2943, ('Reaction', 'RMI', 'Metabolite'): 3026, ('Reaction', 'RPI', 'Pathway'): 2375},\n",
    "      metagraph=[('Gene', 'Reaction', 'GRI'), ('Gene', 'Gene', 'PPI'), ('Gene', 'Gene', 'SFGI'), ('Gene', 'Gene', 'TFGI'), ('Reaction', 'Metabolite', 'RMI'), ('Reaction', 'Pathway', 'RPI'), ('Metabolite', 'Gene', 'CPI'), ('Metabolite', 'Reaction', 'MRI')])\n",
    "我想提取('Gene', 'Gene', 'TFGI')全部边 然后取出10% 然后从原图中抹掉这些边"
   ]
  },
  {
   "cell_type": "code",
   "execution_count": null,
   "metadata": {},
   "outputs": [],
   "source": [
    "u, v = g.edges(etype='TFGI')\n",
    "edges = list(zip(u.numpy(), v.numpy()))\n",
    "\n",
    "# 步骤 2: 选择这些边的 10%\n",
    "num_edges_to_remove = len(edges) // 10\n",
    "indices_to_remove = np.random.choice(len(edges), num_edges_to_remove, replace=False)\n",
    "edges_to_remove = {('Gene', 'Gene', 'TFGI'): [(edges[i][0], edges[i][1]) for i in indices_to_remove]}\n",
    "\n",
    "# 步骤 3: 从图中删除这些边\n",
    "# 在 DGL 中，您不能直接从图中删除边。您需要创建一个新图，不包含那些边。\n",
    "u, v = g.edges(form='uv', order='eid', etype='TFGI')\n",
    "u, v = u.numpy(), v.numpy()\n",
    "edges_to_keep = {('Gene', 'Gene', 'TFGI'): [(u[i], v[i]) for i in range(len(u)) if i not in indices_to_remove]}"
   ]
  },
  {
   "cell_type": "code",
   "execution_count": null,
   "metadata": {},
   "outputs": [],
   "source": [
    "# 创建新的子图，不包含被移除的边\n",
    "subg = dgl.edge_subgraph(g, edges_to_keep)\n",
    "\n",
    "# subg 是更新后的图"
   ]
  }
 ],
 "metadata": {
  "kernelspec": {
   "display_name": "biobase",
   "language": "python",
   "name": "python3"
  },
  "language_info": {
   "codemirror_mode": {
    "name": "ipython",
    "version": 3
   },
   "file_extension": ".py",
   "mimetype": "text/x-python",
   "name": "python",
   "nbconvert_exporter": "python",
   "pygments_lexer": "ipython3",
   "version": "3.10.13"
  }
 },
 "nbformat": 4,
 "nbformat_minor": 2
}
