{
 "cells": [
  {
   "cell_type": "code",
   "execution_count": 1,
   "metadata": {},
   "outputs": [],
   "source": [
    "import torch\n",
    "import torch.nn as nn\n",
    "import torch.nn.functional as F\n",
    "class InteractingLayer(nn.Module):\n",
    "    def __init__(self, embedding_size, head_num=2, use_res=True, scaling=False):\n",
    "        super(InteractingLayer, self).__init__()\n",
    "        self.att_embedding_size = embedding_size // head_num\n",
    "        self.head_num = head_num\n",
    "        self.use_res = use_res\n",
    "        self.scaling = scaling\n",
    "\n",
    "        self.W_Query = nn.Parameter(torch.Tensor(embedding_size, embedding_size))\n",
    "        self.W_Key = nn.Parameter(torch.Tensor(embedding_size, embedding_size))\n",
    "        self.W_Value = nn.Parameter(torch.Tensor(embedding_size, embedding_size))\n",
    "\n",
    "        if self.use_res:\n",
    "            self.W_Res = nn.Parameter(torch.Tensor(embedding_size, embedding_size))\n",
    "        for tensor in self.parameters():\n",
    "            nn.init.normal_(tensor, mean=0.0, std=0.05)\n",
    "\n",
    "    def forward(self, inputs):\n",
    "\n",
    "        # inputs: [1024, 26, 4]\n",
    "        #keys: [1024, 26, 4]\n",
    "        querys = torch.tensordot(inputs, self.W_Query, dims=([-1], [0]))\n",
    "        keys = torch.tensordot(inputs, self.W_Key, dims=([-1], [0]))\n",
    "        values = torch.tensordot(inputs, self.W_Value, dims=([-1], [0]))\n",
    "\n",
    "        # keys: [2, 1024, 26, 2]\n",
    "        querys = torch.stack(torch.split(querys, self.att_embedding_size, dim=2))\n",
    "        keys = torch.stack(torch.split(keys, self.att_embedding_size, dim=2))\n",
    "        values = torch.stack(torch.split(values, self.att_embedding_size, dim=2))\n",
    "\n",
    "        # inner_product: [2, 1024, 26, 26]\n",
    "        inner_product = torch.einsum('bnik,bnjk->bnij', querys, keys)\n",
    "\n",
    "        if self.scaling:\n",
    "            inner_product /= self.att_embedding_size ** 0.5\n",
    "        self.normalized_att_scores = F.softmax(inner_product, dim=-1)\n",
    "\n",
    "        # [2, 1024, 26, 2]\n",
    "        result = torch.matmul(self.normalized_att_scores, values)\n",
    "        # [1, 1024, 26, 4]\n",
    "        result = torch.cat(torch.split(result, 1, ), dim=-1)\n",
    "        # [1024, 26, 4]\n",
    "        result = torch.squeeze(result, dim=0)\n",
    "        if self.use_res:\n",
    "            result += torch.tensordot(inputs, self.W_Res, dims=([-1], [0]))\n",
    "        result = F.relu(result)\n",
    "        return result"
   ]
  },
  {
   "cell_type": "code",
   "execution_count": 2,
   "metadata": {},
   "outputs": [],
   "source": [
    "class GraphAttentionLayer(nn.Module):\n",
    "\n",
    "    def __init__(self, in_features, out_features, dropout=0.1, alpha=0.5, concat=True):\n",
    "        super(GraphAttentionLayer, self).__init__()\n",
    "        self.dropout = dropout\n",
    "        self.in_features = in_features\n",
    "        self.out_features = out_features\n",
    "        self.alpha = alpha\n",
    "        self.concat = concat\n",
    "\n",
    "        # 可学习参数 W，用于线性变换输入特征\n",
    "        self.W = nn.Parameter(torch.zeros(size=(in_features, out_features)))\n",
    "        nn.init.xavier_uniform_(self.W.data, gain=1.414)\n",
    "\n",
    "        # 可学习参数 a，用于计算注意力系数\n",
    "        self.a = nn.Parameter(torch.zeros(size=(2*out_features, 1)))\n",
    "        nn.init.xavier_uniform_(self.a.data, gain=1.414)\n",
    "\n",
    "        # Leaky ReLU 激活函数，用于引入非线性\n",
    "        self.leakyrelu = nn.LeakyReLU(self.alpha)\n",
    "\n",
    "    def forward(self, input, adj):\n",
    "        h = torch.mm(input, self.W)  # 线性变换，得到节点特征表示，形状为 [N, out_features]\n",
    "        N = h.size()[0]\n",
    "\n",
    "        # 构造注意力机制的输入，a_input 的形状为 [N, N, 2*out_features]\n",
    "        a_input = torch.cat([h.repeat(1, N).view(N * N, -1), h.repeat(N, 1)], dim=1).view(N, -1, 2 * self.out_features)\n",
    "\n",
    "        # 计算注意力系数，通过学习得到，形状为 [N, N]\n",
    "        e = self.leakyrelu(torch.matmul(a_input, self.a).squeeze(2))\n",
    "\n",
    "        # 使用零向量对不相邻节点的注意力系数进行屏蔽\n",
    "        zero_vec = -9e15 * torch.ones_like(e)\n",
    "        attention = torch.where(adj > 0, e, zero_vec)\n",
    "\n",
    "        # 对注意力系数进行 softmax 归一化，然后使用 dropout 进行正则化\n",
    "        attention = F.softmax(attention, dim=1)\n",
    "        attention = F.dropout(attention, self.dropout, training=self.training)\n",
    "\n",
    "        # 使用注意力系数对节点特征进行加权求和，得到更新后的节点表示 h_prime\n",
    "        h_prime = torch.matmul(attention, h)\n",
    "\n",
    "        # 如果设置了 concat 为 True，则在更新后的节点表示上使用激活函数 ELU，并返回\n",
    "        if self.concat:\n",
    "            return F.elu(h_prime)\n",
    "        else:\n",
    "            return h_prime"
   ]
  },
  {
   "cell_type": "code",
   "execution_count": 3,
   "metadata": {},
   "outputs": [],
   "source": [
    "layer = GraphAttentionLayer(in_features=10, out_features=6)"
   ]
  },
  {
   "cell_type": "code",
   "execution_count": 6,
   "metadata": {},
   "outputs": [],
   "source": [
    "# 5*5的邻接矩阵\n",
    "adjacency_matrix = [\n",
    "    [0, 1, 1, 0, 0],\n",
    "    [1, 0, 0, 1, 0],\n",
    "    [1, 0, 0, 1, 1],\n",
    "    [0, 1, 1, 0, 1],\n",
    "    [0, 0, 1, 1, 0]\n",
    "]\n",
    "\n",
    "# 转换为PyTorch张量\n",
    "adj = torch.tensor(adjacency_matrix, dtype=torch.float32)\n",
    "feat = torch.Tensor(5,10)"
   ]
  },
  {
   "cell_type": "code",
   "execution_count": 7,
   "metadata": {},
   "outputs": [
    {
     "data": {
      "text/plain": [
       "tensor([[-1.0000e+00, -1.0000e+00, -1.0000e+00, -1.0000e+00,  7.8242e+17,\n",
       "         -1.0000e+00],\n",
       "        [ 1.7038e-30,  5.0690e-30,  0.0000e+00,  0.0000e+00,  5.4240e-30,\n",
       "          1.0032e-31],\n",
       "        [ 6.1067e+19,  1.0260e+20,  1.0073e+20,  1.8604e+20, -1.0000e+00,\n",
       "         -1.0000e+00],\n",
       "        [ 6.1067e+19,  1.0260e+20,  1.0073e+20,  1.8604e+20, -1.0000e+00,\n",
       "         -1.0000e+00],\n",
       "        [ 2.0356e+19,  3.4199e+19,  3.3577e+19,  6.2012e+19, -1.0000e+00,\n",
       "         -1.0000e+00]], grad_fn=<EluBackward0>)"
      ]
     },
     "execution_count": 7,
     "metadata": {},
     "output_type": "execute_result"
    }
   ],
   "source": [
    "layer(feat,adj)"
   ]
  },
  {
   "cell_type": "code",
   "execution_count": null,
   "metadata": {},
   "outputs": [],
   "source": []
  }
 ],
 "metadata": {
  "kernelspec": {
   "display_name": "biobase",
   "language": "python",
   "name": "python3"
  },
  "language_info": {
   "codemirror_mode": {
    "name": "ipython",
    "version": 3
   },
   "file_extension": ".py",
   "mimetype": "text/x-python",
   "name": "python",
   "nbconvert_exporter": "python",
   "pygments_lexer": "ipython3",
   "version": "3.10.13"
  }
 },
 "nbformat": 4,
 "nbformat_minor": 2
}
